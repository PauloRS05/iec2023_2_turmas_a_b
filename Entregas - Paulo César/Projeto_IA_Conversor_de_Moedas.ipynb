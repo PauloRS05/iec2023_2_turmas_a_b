{
  "nbformat": 4,
  "nbformat_minor": 0,
  "metadata": {
    "colab": {
      "provenance": [],
      "collapsed_sections": [
        "8pJIcrp0Q6Ah",
        "HscohxkJL3RB",
        "h41oIatUMgjP",
        "taOtZjWkSEQQ",
        "vJkbCrvwNPnT"
      ],
      "authorship_tag": "ABX9TyMEShuZbEmekGwFpi6iMA4f",
      "include_colab_link": true
    },
    "kernelspec": {
      "name": "python3",
      "display_name": "Python 3"
    },
    "language_info": {
      "name": "python"
    }
  },
  "cells": [
    {
      "cell_type": "markdown",
      "metadata": {
        "id": "view-in-github",
        "colab_type": "text"
      },
      "source": [
        "<a href=\"https://colab.research.google.com/github/PauloRS05/iec2023_2_turmas_a_b/blob/main/Entregas%20-%20Paulo%20C%C3%A9sar/Projeto_IA_Conversor_de_Moedas.ipynb\" target=\"_parent\"><img src=\"https://colab.research.google.com/assets/colab-badge.svg\" alt=\"Open In Colab\"/></a>"
      ]
    },
    {
      "cell_type": "markdown",
      "source": [
        "# Instalação de Biblioteca\n",
        "A biblioteca forex-python em Python é uma ferramenta que permite a obtenção de taxas de câmbio e a realização de conversões de moeda."
      ],
      "metadata": {
        "id": "8pJIcrp0Q6Ah"
      }
    },
    {
      "cell_type": "code",
      "source": [
        "!pip install forex-python"
      ],
      "metadata": {
        "id": "mebZZpVGKUpc"
      },
      "execution_count": null,
      "outputs": []
    },
    {
      "cell_type": "markdown",
      "source": [
        "# Importação.\n",
        "Esta linha importa a classe CurrencyRates da biblioteca forex_python.converter, que será utilizada para realizar as conversões de moeda."
      ],
      "metadata": {
        "id": "HscohxkJL3RB"
      }
    },
    {
      "cell_type": "code",
      "source": [
        "from forex_python.converter import CurrencyRates"
      ],
      "metadata": {
        "id": "U6zHP-9GMA9K"
      },
      "execution_count": 14,
      "outputs": []
    },
    {
      "cell_type": "markdown",
      "source": [
        "# Funções.\n",
        "Define função com três parâmetros e utilizando a ferramenta de converção da Biblioteca Forex-Python."
      ],
      "metadata": {
        "id": "h41oIatUMgjP"
      }
    },
    {
      "cell_type": "code",
      "source": [
        "def converter_moeda(moeda_origem, moedas_destino, quantidade):\n",
        "    c = CurrencyRates()\n",
        "    resultado = {}\n",
        "    for moeda in moedas_destino:\n",
        "        resultado[moeda] = c.convert(moeda_origem, moeda, quantidade)\n",
        "    return resultado"
      ],
      "metadata": {
        "id": "HdTJt9XNcKB5"
      },
      "execution_count": 15,
      "outputs": []
    },
    {
      "cell_type": "markdown",
      "source": [
        "# Interação com o usuário.\n",
        "Obtenção dos dados referentes as moedas de origem e destino, e quantidade."
      ],
      "metadata": {
        "id": "taOtZjWkSEQQ"
      }
    },
    {
      "cell_type": "code",
      "source": [
        "moeda_origem = input(\"Digite a moeda de origem: \")\n",
        "quantidade = float(input(\"Digite a quantidade: \"))\n",
        "moedas_destino = input(\"Digite as moedas de destino separadas por vírgula: \").split(\",\")\n",
        "resultado = converter_moeda(moeda_origem, moedas_destino, quantidade)"
      ],
      "metadata": {
        "id": "4CPOf4L8dC2w"
      },
      "execution_count": null,
      "outputs": []
    },
    {
      "cell_type": "markdown",
      "source": [
        "# Resultado"
      ],
      "metadata": {
        "id": "vJkbCrvwNPnT"
      }
    },
    {
      "cell_type": "code",
      "source": [
        "print(f\"\\n{quantidade:.2f} {moeda_origem} equivalem a:\")\n",
        "for moeda, valor in resultado.items():\n",
        "    print(f\"{valor:.2f} {moeda}\")"
      ],
      "metadata": {
        "id": "w5oLaRUOdFER"
      },
      "execution_count": null,
      "outputs": []
    },
    {
      "cell_type": "markdown",
      "source": [
        "# Lista de moedas suportadas\n",
        "Moedas suportadas pela biblioteca forex-python:\n",
        "**EUR (Euro) JPY (Iene Japonês) BGN (Lev Búlgaro) CZK (Coroa Tcheca) DKK (Coroa Dinamarquesa) GBP (Libra Esterlina) HUF (Florim Húngaro) PLN (Złoty Polonês) RON (Leu Romeno) SEK (Coroa Sueca) CHF (Franco Suíço) ISK (Coroa Islandesa) NOK (Coroa Norueguesa) TRY (Lira Turca) AUD (Dólar Australiano) BRL (Real Brasileiro) CAD (Dólar Canadense) CNY (Yuan Chinês) HKD (Dólar de Hong Kong) IDR (Rupia Indonésia) INR (Rúpia Indiana) KRW (Won Sul-Coreano) MXN (Peso Mexicano) MYR (Ringgit Malaio) NZD (Dólar Neozelandês) PHP (Peso Filipino) SGD (Dólar de Cingapura) THB (Baht Tailandês) ZAR (Rand Sul-Africano)**\n"
      ],
      "metadata": {
        "id": "AsYMaXlJj51_"
      }
    }
  ]
}